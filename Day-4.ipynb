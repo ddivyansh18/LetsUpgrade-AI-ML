{
 "cells": [
  {
   "cell_type": "markdown",
   "metadata": {},
   "source": [
    "# Day-4"
   ]
  },
  {
   "cell_type": "markdown",
   "metadata": {},
   "source": [
    "1. To research whether arthimetic operations can be performed on complex numbers"
   ]
  },
  {
   "cell_type": "code",
   "execution_count": 4,
   "metadata": {},
   "outputs": [
    {
     "name": "stdin",
     "output_type": "stream",
     "text": [
      "Enter first complex number:  2+3j\n",
      "Enter second complex number:  5+6j\n"
     ]
    },
    {
     "name": "stdout",
     "output_type": "stream",
     "text": [
      "Addition: (7+9j)\n",
      "Subtraction: (-3-3j)\n",
      "Multiplication: (-8+27j)\n",
      "Division: (0.4590163934426229+0.04918032786885245j)\n"
     ]
    }
   ],
   "source": [
    "c1 = complex(input(\"Enter first complex number: \"))\n",
    "c2 = complex(input(\"Enter second complex number: \"))\n",
    "print(\"Addition:\",c1 + c2)\n",
    "print(\"Subtraction:\",c1 - c2)\n",
    "print(\"Multiplication:\",c1 * c2)\n",
    "print(\"Division:\",c1 / c2)\n",
    "\n",
    "# From the output we can conclude it's possible"
   ]
  },
  {
   "cell_type": "markdown",
   "metadata": {},
   "source": [
    "2. To research on range() function and it parameters\n",
    "- Used to generate a sequence of numbers\n",
    "- It has mainly three arguments start, stop and step\n",
    "- Start : Number from which sequence is starting\n",
    "- Stop : Number upto which we want numbers in our sequence\n",
    "         (Stop number is not included)\n",
    "- Step : This value is the increment between each number in the sequence\n",
    "- Default value of start is 0 and step is 1, stop is always specified by user.\n",
    "\n",
    "Variations :\n",
    "- range(stop)\n",
    "- range(start, stop)\n",
    "- range(start, stop, step)"
   ]
  },
  {
   "cell_type": "code",
   "execution_count": 6,
   "metadata": {},
   "outputs": [
    {
     "name": "stdout",
     "output_type": "stream",
     "text": [
      "[0, 1, 2, 3, 4, 5]\n",
      "[3, 4, 5]\n",
      "[1, 3, 5]\n"
     ]
    }
   ],
   "source": [
    "print(list(range(6)))\n",
    "print(list(range(3,6)))\n",
    "print(list(range(1,6,2)))"
   ]
  },
  {
   "cell_type": "markdown",
   "metadata": {},
   "source": [
    "3. Consider two numbers. Perform their subtraction and if result of subtraction is greater than 25, print multiplication result else print their division result."
   ]
  },
  {
   "cell_type": "code",
   "execution_count": 7,
   "metadata": {},
   "outputs": [
    {
     "name": "stdin",
     "output_type": "stream",
     "text": [
      "Enter first number:  10\n",
      "Enter second number:  50\n"
     ]
    },
    {
     "name": "stdout",
     "output_type": "stream",
     "text": [
      "0.2\n"
     ]
    }
   ],
   "source": [
    "num1 = int(input(\"Enter first number: \"))\n",
    "num2 = int(input(\"Enter second number: \"))\n",
    "if num1 - num2 > 25 :\n",
    "    print(num1 * num2)\n",
    "else :\n",
    "    print(num1 / num2)"
   ]
  },
  {
   "cell_type": "markdown",
   "metadata": {},
   "source": [
    "4. Consider a list of 10 elements of integer values. If the number in the list is divisible by    2, print the number as square of that number minus 2."
   ]
  },
  {
   "cell_type": "code",
   "execution_count": 12,
   "metadata": {},
   "outputs": [
    {
     "name": "stdout",
     "output_type": "stream",
     "text": [
      "1 2 3 14 5 34 7 62 9 98 "
     ]
    }
   ],
   "source": [
    "l = range(1,11)\n",
    "for i in l:\n",
    "    if i % 2 == 0:\n",
    "        print(i * i - 2,end = \" \")\n",
    "    else:\n",
    "        print(i,end = \" \")"
   ]
  },
  {
   "cell_type": "markdown",
   "metadata": {},
   "source": [
    "5. Consider a list of 10 elements. Print all the elements in the list which are greater than 7\n",
    "    when the number is divided by 2."
   ]
  },
  {
   "cell_type": "code",
   "execution_count": 13,
   "metadata": {},
   "outputs": [
    {
     "name": "stdout",
     "output_type": "stream",
     "text": [
      "15 16 17 18 19 20 "
     ]
    }
   ],
   "source": [
    "l = range(10,21)\n",
    "for i in l:\n",
    "    if i/2 > 7:\n",
    "        print(i,end = \" \")"
   ]
  }
 ],
 "metadata": {
  "kernelspec": {
   "display_name": "Python 3",
   "language": "python",
   "name": "python3"
  },
  "language_info": {
   "codemirror_mode": {
    "name": "ipython",
    "version": 3
   },
   "file_extension": ".py",
   "mimetype": "text/x-python",
   "name": "python",
   "nbconvert_exporter": "python",
   "pygments_lexer": "ipython3",
   "version": "3.7.6"
  }
 },
 "nbformat": 4,
 "nbformat_minor": 4
}
