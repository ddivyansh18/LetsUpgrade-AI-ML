{
 "cells": [
  {
   "cell_type": "markdown",
   "metadata": {},
   "source": [
    "# Day-15"
   ]
  },
  {
   "cell_type": "code",
   "execution_count": 2,
   "metadata": {},
   "outputs": [],
   "source": [
    "import numpy as np"
   ]
  },
  {
   "cell_type": "markdown",
   "metadata": {},
   "source": [
    "# 1. Create a 3x3x3 array with random values "
   ]
  },
  {
   "cell_type": "code",
   "execution_count": 2,
   "metadata": {},
   "outputs": [
    {
     "name": "stdout",
     "output_type": "stream",
     "text": [
      "[[[0.53455312 0.26080025 0.91964446]\n",
      "  [0.12516827 0.4896897  0.59115962]\n",
      "  [0.07543078 0.41352121 0.69954411]]\n",
      "\n",
      " [[0.64390392 0.07631744 0.88215231]\n",
      "  [0.19825242 0.73496278 0.68542261]\n",
      "  [0.57680064 0.60260663 0.9152145 ]]\n",
      "\n",
      " [[0.11012824 0.68076767 0.03216835]\n",
      "  [0.51182163 0.36471119 0.4699978 ]\n",
      "  [0.72750719 0.4173785  0.61246886]]]\n"
     ]
    }
   ],
   "source": [
    "a = np.random.random((3,3,3))\n",
    "print(a)"
   ]
  },
  {
   "cell_type": "markdown",
   "metadata": {},
   "source": [
    "# 2.Create a 5x5 matrix with values 1,2,3,4 just below the diagonal"
   ]
  },
  {
   "cell_type": "code",
   "execution_count": 22,
   "metadata": {},
   "outputs": [
    {
     "name": "stdout",
     "output_type": "stream",
     "text": [
      "[[0 0 0 0 0]\n",
      " [1 0 0 0 0]\n",
      " [0 2 0 0 0]\n",
      " [0 0 3 0 0]\n",
      " [0 0 0 4 0]]\n"
     ]
    }
   ],
   "source": [
    "a = np.zeros((5,5)int)\n",
    "for i in range(4):\n",
    "    a[i+1][i]=i+1\n",
    "\n",
    "#Python one liner\n",
    "a = np.diag(np.arange(1,5), k = -1)\n",
    "print(a)"
   ]
  },
  {
   "cell_type": "markdown",
   "metadata": {},
   "source": [
    "# 3.Create a 8x8 matrix and fill it with a checkerboard pattern"
   ]
  },
  {
   "cell_type": "code",
   "execution_count": 28,
   "metadata": {},
   "outputs": [
    {
     "name": "stdout",
     "output_type": "stream",
     "text": [
      "[[0 1 0 1 0 1 0 1]\n",
      " [1 0 1 0 1 0 1 0]\n",
      " [0 1 0 1 0 1 0 1]\n",
      " [1 0 1 0 1 0 1 0]\n",
      " [0 1 0 1 0 1 0 1]\n",
      " [1 0 1 0 1 0 1 0]\n",
      " [0 1 0 1 0 1 0 1]\n",
      " [1 0 1 0 1 0 1 0]]\n"
     ]
    }
   ],
   "source": [
    "a = np.zeros((8,8),int)\n",
    "for i in range(8):\n",
    "    for j in range(8):\n",
    "        if (i&1 and j%2 == 0) or (i%2==0 and j&1):\n",
    "            a[i,j] = 1\n",
    "\n",
    "#Pythonic code\n",
    "a = np.zeros((8,8),int)\n",
    "a[1::2, ::2]= 1\n",
    "a[::2, 1::2] = 1\n",
    "print(a)\n",
    "            "
   ]
  },
  {
   "cell_type": "markdown",
   "metadata": {},
   "source": [
    "# 4. Normalize a 5x5 random matrix"
   ]
  },
  {
   "cell_type": "code",
   "execution_count": 30,
   "metadata": {},
   "outputs": [
    {
     "name": "stdout",
     "output_type": "stream",
     "text": [
      "[[0.46915114 0.00883099 0.58702158 0.22697978 0.18435674]\n",
      " [0.0339071  0.66607016 0.98699827 0.01027623 1.        ]\n",
      " [0.59798007 0.56029575 0.30461223 0.37489583 0.15962004]\n",
      " [0.41195422 0.76483189 0.30576803 0.13214345 0.65235066]\n",
      " [0.10217597 0.         0.33120403 0.73507963 0.53385601]]\n"
     ]
    }
   ],
   "source": [
    "a = np.random.random((5,5))\n",
    "maxx,minn = np.max(a),np.min(a)\n",
    "a = (a - minn)/(maxx - minn)\n",
    "print(a)"
   ]
  },
  {
   "cell_type": "markdown",
   "metadata": {},
   "source": [
    "# 5.  How to find common values between two arrays?"
   ]
  },
  {
   "cell_type": "code",
   "execution_count": 3,
   "metadata": {},
   "outputs": [
    {
     "name": "stdout",
     "output_type": "stream",
     "text": [
      "[4 5]\n"
     ]
    }
   ],
   "source": [
    "a = np.arange(1,6)\n",
    "b = np.arange(4,9)\n",
    "print(np.intersect1d(a,b))"
   ]
  },
  {
   "cell_type": "markdown",
   "metadata": {},
   "source": [
    "# 6.How to get the dates of yesterday, today and tomorrow?"
   ]
  },
  {
   "cell_type": "code",
   "execution_count": 6,
   "metadata": {},
   "outputs": [
    {
     "name": "stdout",
     "output_type": "stream",
     "text": [
      "Today:  2020-07-26\n",
      "Yesterday:  2020-07-25\n",
      "Tommorrow:  2020-07-27\n"
     ]
    }
   ],
   "source": [
    "import datetime\n",
    "today = datetime.date.today()\n",
    "yesterday = today - datetime.timedelta(days=1)\n",
    "tomorrow = today + datetime.timedelta(days=1)\n",
    "print(\"Today: \",today)\n",
    "print(\"Yesterday: \",yesterday)\n",
    "print(\"Tommorrow: \",tomorrow)"
   ]
  },
  {
   "cell_type": "markdown",
   "metadata": {},
   "source": [
    "# 7. Consider two random array A and B, check if they are equal"
   ]
  },
  {
   "cell_type": "code",
   "execution_count": 7,
   "metadata": {},
   "outputs": [
    {
     "name": "stdout",
     "output_type": "stream",
     "text": [
      "False\n"
     ]
    }
   ],
   "source": [
    "a = np.random.random((10,))\n",
    "b = np.random.random((10,))\n",
    "print(np.array_equal(a,b))"
   ]
  },
  {
   "cell_type": "markdown",
   "metadata": {},
   "source": [
    "# 8.Create random vector of size 10 and replace the maximum value by 0 "
   ]
  },
  {
   "cell_type": "code",
   "execution_count": 14,
   "metadata": {},
   "outputs": [
    {
     "name": "stdout",
     "output_type": "stream",
     "text": [
      "[0.40357667 0.51405699 0.26697542 0.54658876 0.46775301 0.75206644\n",
      " 0.60681291 0.00323403 0.32522769 0.68443836]\n",
      "[0.40357667 0.51405699 0.26697542 0.54658876 0.46775301 0.\n",
      " 0.60681291 0.00323403 0.32522769 0.68443836]\n"
     ]
    }
   ],
   "source": [
    "a = np.random.random((10,))\n",
    "print(a)\n",
    "a[a.argmax()] = 0\n",
    "print(a)"
   ]
  },
  {
   "cell_type": "markdown",
   "metadata": {},
   "source": [
    "# 9. How to print all the values of an array?"
   ]
  },
  {
   "cell_type": "code",
   "execution_count": 16,
   "metadata": {},
   "outputs": [
    {
     "name": "stdout",
     "output_type": "stream",
     "text": [
      "[0 1 2 3 4 5 6 7 8 9]\n"
     ]
    }
   ],
   "source": [
    "a = np.arange(10)\n",
    "print(a)"
   ]
  },
  {
   "cell_type": "markdown",
   "metadata": {},
   "source": [
    "# 10.Subtract the mean of each row of a matrix"
   ]
  },
  {
   "cell_type": "code",
   "execution_count": 20,
   "metadata": {},
   "outputs": [
    {
     "name": "stdout",
     "output_type": "stream",
     "text": [
      "[[0.31969441 0.09396699 0.53212727]\n",
      " [0.48504931 0.68742901 0.06039916]\n",
      " [0.82756273 0.91689449 0.2191803 ]]\n",
      "[[ 0.00443152 -0.2212959   0.21686438]\n",
      " [ 0.07409015  0.27646985 -0.35056   ]\n",
      " [ 0.17301689  0.26234865 -0.43536554]]\n"
     ]
    }
   ],
   "source": [
    "a = np.random.random((3,3))\n",
    "print(a)\n",
    "for row in a:\n",
    "     row -= row.mean();\n",
    "print(a)"
   ]
  },
  {
   "cell_type": "markdown",
   "metadata": {},
   "source": [
    "# 11.Consider a given vector, how to add 1 to each element indexed by a second vector (be careful with repeated indices)? "
   ]
  },
  {
   "cell_type": "code",
   "execution_count": 29,
   "metadata": {},
   "outputs": [
    {
     "name": "stdout",
     "output_type": "stream",
     "text": [
      "[2. 2. 2. 2. 2.]\n"
     ]
    }
   ],
   "source": [
    "a = np.ones((5,))\n",
    "b = np.arange(5)\n",
    "#Study about ufuncs\n",
    "np.add.at(a,b,1)\n",
    "print(a)"
   ]
  },
  {
   "cell_type": "markdown",
   "metadata": {},
   "source": [
    "# 12.How to get the diagonal of a dot product?"
   ]
  },
  {
   "cell_type": "code",
   "execution_count": 44,
   "metadata": {},
   "outputs": [
    {
     "name": "stdout",
     "output_type": "stream",
     "text": [
      "[0.65718535 0.20730935 0.40036857]\n"
     ]
    }
   ],
   "source": [
    "a = np.random.random((3,3))\n",
    "b = np.random.random((3,3))\n",
    "print(np.diag(np.dot(a,b)))"
   ]
  },
  {
   "cell_type": "markdown",
   "metadata": {},
   "source": [
    "# 13.How to find the most frequent value in an array?"
   ]
  },
  {
   "cell_type": "code",
   "execution_count": 33,
   "metadata": {},
   "outputs": [
    {
     "name": "stdout",
     "output_type": "stream",
     "text": [
      "[7 5 7 0 3 2 2 6 7 7 1 0 2 7 8 7 7 1 6 5 5 2 4 3 6 0 8 6 0 2 5 1 0 7 1 5 9\n",
      " 2 7 9 0 3 8 8 7 6 9 8 3 5]\n",
      "7\n"
     ]
    }
   ],
   "source": [
    "a = np.random.randint(0,10,50)\n",
    "print(a)\n",
    "print(np.bincount(a).argmax())"
   ]
  },
  {
   "cell_type": "markdown",
   "metadata": {},
   "source": [
    "# 14.How to get the n largest values of an array"
   ]
  },
  {
   "cell_type": "code",
   "execution_count": 43,
   "metadata": {},
   "outputs": [
    {
     "name": "stdout",
     "output_type": "stream",
     "text": [
      "[52 14 13 35 82 70 63  4 76 98 57 95 85 17 28 11 28 32 60 42 78 66 47 69\n",
      " 61 93 33 93  6  2]\n",
      "[98 95 93 93 85 82 69 78 76 70 66 52 33 63 61 35 47 32 60 42 57 28 28 11\n",
      " 14 17  4 13  6  2]\n",
      "[98 95 93 93 85]\n"
     ]
    }
   ],
   "source": [
    "a = np.random.randint(1,100,30)\n",
    "print(a)\n",
    "n = 5\n",
    "#.argpartition returns index\n",
    "print(a[np.argpartition(-a,n)[:n]])"
   ]
  },
  {
   "cell_type": "markdown",
   "metadata": {},
   "source": [
    "# 15.How to create a record array from a regular array?"
   ]
  },
  {
   "cell_type": "code",
   "execution_count": 35,
   "metadata": {},
   "outputs": [
    {
     "name": "stdout",
     "output_type": "stream",
     "text": [
      "[(b'Bonjour', 7.1, 2) (b'Adios', 4.2, 3)]\n"
     ]
    }
   ],
   "source": [
    "a = np.array([(\"Bonjour\", 7.1, 2),\n",
    "              (\"Adios\", 4.2, 3)])\n",
    "record = np.core.records.fromarrays(a.T,\n",
    "                               names='c1, c2, c3',\n",
    "                               formats = 'S8, f8, i8')\n",
    "print(record)"
   ]
  }
 ],
 "metadata": {
  "kernelspec": {
   "display_name": "Python 3",
   "language": "python",
   "name": "python3"
  },
  "language_info": {
   "codemirror_mode": {
    "name": "ipython",
    "version": 3
   },
   "file_extension": ".py",
   "mimetype": "text/x-python",
   "name": "python",
   "nbconvert_exporter": "python",
   "pygments_lexer": "ipython3",
   "version": "3.7.6"
  }
 },
 "nbformat": 4,
 "nbformat_minor": 4
}
