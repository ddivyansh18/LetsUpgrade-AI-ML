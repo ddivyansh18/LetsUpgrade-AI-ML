{
 "cells": [
  {
   "cell_type": "markdown",
   "metadata": {},
   "source": [
    "# Day-5"
   ]
  },
  {
   "cell_type": "markdown",
   "metadata": {},
   "source": [
    "1. Write a program to print first 20 non-even prime natural numbers"
   ]
  },
  {
   "cell_type": "code",
   "execution_count": 10,
   "metadata": {},
   "outputs": [
    {
     "name": "stdout",
     "output_type": "stream",
     "text": [
      "First 20 non-even prime natural numbers:\n",
      "[3, 5, 7, 11, 13, 17, 19, 23, 29, 31, 37, 41, 43, 47, 53, 59, 61, 67, 71, 73]\n"
     ]
    }
   ],
   "source": [
    "import math\n",
    "\n",
    "def isPrime(num):\n",
    "    for i in range(2, math.ceil(num**0.5) + 1):\n",
    "        if num % i == 0:\n",
    "            return False\n",
    "    return True\n",
    "\n",
    "primesFound = 0\n",
    "num = 3\n",
    "primes = []\n",
    "\n",
    "while(1):\n",
    "    if primesFound == 20:\n",
    "        break\n",
    "        \n",
    "    if isPrime(num):\n",
    "        primes.append(num)\n",
    "        primesFound+=1\n",
    "        \n",
    "    num+=2\n",
    "\n",
    "print(\"First 20 non-even prime natural numbers:\")\n",
    "print(primes)"
   ]
  },
  {
   "cell_type": "markdown",
   "metadata": {},
   "source": [
    "2. Write a python program to implement 15 functions of a string"
   ]
  },
  {
   "cell_type": "code",
   "execution_count": 25,
   "metadata": {},
   "outputs": [
    {
     "name": "stdout",
     "output_type": "stream",
     "text": [
      "Helloworld\n",
      "1\n",
      "True\n",
      "-1\n",
      "The sum of 2+3 is 5 and not 6\n",
      "True\n",
      "True\n",
      "False\n",
      "True\n",
      "False\n",
      "world\n",
      "('he', 'l', 'loworld')\n",
      "byeworld\n",
      "he\n",
      "HELLOWORLD\n",
      "helloworld\n",
      "HELLOWORLD\n"
     ]
    }
   ],
   "source": [
    "string = \"helloworld\"\n",
    "print(string.capitalize())\n",
    "print(string.count(\"hello\"))\n",
    "print(string.endswith(\"world\"))\n",
    "print(string.find(\"ok\"))\n",
    "print(\"The sum of 2+3 is {} and not {}\".format(2+3,6))\n",
    "print(string.isalnum())\n",
    "print(string.isalpha())\n",
    "print(string.isdigit())\n",
    "print(string.islower())\n",
    "print(string.isupper())\n",
    "print(string.lstrip('hello'))\n",
    "print(string.partition('l'))\n",
    "print(string.replace('hello','bye'))\n",
    "print(string.rstrip(\"world\"))  # mentioned char in argument string are removed\n",
    "print(string.swapcase())\n",
    "print(string.lower())\n",
    "print(string.upper())\n",
    "\n",
    "# More than 15, those who appeared useful"
   ]
  },
  {
   "cell_type": "markdown",
   "metadata": {},
   "source": [
    "3. Write a Python program to check if the given string is a Palindrome or Anagram or None of them.\n",
    "   Display the message accordingly to the user."
   ]
  },
  {
   "cell_type": "code",
   "execution_count": 28,
   "metadata": {},
   "outputs": [
    {
     "name": "stdin",
     "output_type": "stream",
     "text": [
      "Enter string1:  listen\n",
      "Enter string2:  silent\n"
     ]
    },
    {
     "name": "stdout",
     "output_type": "stream",
     "text": [
      "listen is not palindrome\n",
      "silent is not palindrome\n",
      "listen and silent are anagrams\n"
     ]
    }
   ],
   "source": [
    "def isPalindrome(string):\n",
    "    if string == string[::-1] :\n",
    "        print(string,\"is palindrome\")\n",
    "    else:\n",
    "        print(string,\"is not palindrome\")\n",
    "    \n",
    "def isAnagram(string1,string2):\n",
    "    if sorted(string1) == sorted(string2):\n",
    "        print(string1,\"and\",string2,\"are anagrams\")\n",
    "    else:\n",
    "        print(string1,\"and\",string2,\"are not anagrams\")\n",
    "    \n",
    "string1 = input(\"Enter string1: \")\n",
    "string2 = input(\"Enter string2: \")\n",
    "\n",
    "isPalindrome(string1)\n",
    "isPalindrome(string2)\n",
    "isAnagram(string1,string2)\n"
   ]
  },
  {
   "cell_type": "markdown",
   "metadata": {},
   "source": [
    "4. Write a Python's user defined function that removes all the additional characters from the string\n",
    "   and converts it finally to lower case using built-in lower(). "
   ]
  },
  {
   "cell_type": "code",
   "execution_count": 33,
   "metadata": {},
   "outputs": [
    {
     "name": "stdout",
     "output_type": "stream",
     "text": [
      "useremailidwebsitecom\n"
     ]
    }
   ],
   "source": [
    "string = \"User-Email-Id@website.com\"\n",
    "output = \"\"\n",
    "\n",
    "for i in string :\n",
    "    if i.isalnum():\n",
    "        output += i\n",
    "\n",
    "string = output.lower()\n",
    "print(string)"
   ]
  }
 ],
 "metadata": {
  "kernelspec": {
   "display_name": "Python 3",
   "language": "python",
   "name": "python3"
  },
  "language_info": {
   "codemirror_mode": {
    "name": "ipython",
    "version": 3
   },
   "file_extension": ".py",
   "mimetype": "text/x-python",
   "name": "python",
   "nbconvert_exporter": "python",
   "pygments_lexer": "ipython3",
   "version": "3.7.6"
  }
 },
 "nbformat": 4,
 "nbformat_minor": 4
}
